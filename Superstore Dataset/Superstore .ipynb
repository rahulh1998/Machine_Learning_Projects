{
 "cells": [
  {
   "cell_type": "code",
   "execution_count": 1,
   "id": "a612fb1a",
   "metadata": {},
   "outputs": [],
   "source": [
    "import pandas as pd\n",
    "import numpy as np\n",
    "import seaborn as sns\n",
    "import matplotlib.pyplot as plt\n",
    "import os\n",
    "import warnings\n",
    "pd.set_option(\"display.max_columns\",50)\n",
    "warnings.filterwarnings('ignore')"
   ]
  },
  {
   "cell_type": "code",
   "execution_count": 2,
   "id": "38a1fc7b",
   "metadata": {},
   "outputs": [
    {
     "data": {
      "text/html": [
       "<div>\n",
       "<style scoped>\n",
       "    .dataframe tbody tr th:only-of-type {\n",
       "        vertical-align: middle;\n",
       "    }\n",
       "\n",
       "    .dataframe tbody tr th {\n",
       "        vertical-align: top;\n",
       "    }\n",
       "\n",
       "    .dataframe thead th {\n",
       "        text-align: right;\n",
       "    }\n",
       "</style>\n",
       "<table border=\"1\" class=\"dataframe\">\n",
       "  <thead>\n",
       "    <tr style=\"text-align: right;\">\n",
       "      <th></th>\n",
       "      <th>Row ID</th>\n",
       "      <th>Order ID</th>\n",
       "      <th>Order Date</th>\n",
       "      <th>Ship Date</th>\n",
       "      <th>Ship Mode</th>\n",
       "      <th>Customer ID</th>\n",
       "      <th>Customer Name</th>\n",
       "      <th>Segment</th>\n",
       "      <th>Country</th>\n",
       "      <th>City</th>\n",
       "      <th>State</th>\n",
       "      <th>Postal Code</th>\n",
       "      <th>Region</th>\n",
       "      <th>Product ID</th>\n",
       "      <th>Category</th>\n",
       "      <th>Sub-Category</th>\n",
       "      <th>Product Name</th>\n",
       "      <th>Sales</th>\n",
       "      <th>Quantity</th>\n",
       "      <th>Discount</th>\n",
       "      <th>Profit</th>\n",
       "    </tr>\n",
       "  </thead>\n",
       "  <tbody>\n",
       "    <tr>\n",
       "      <th>0</th>\n",
       "      <td>1</td>\n",
       "      <td>CA-2016-152156</td>\n",
       "      <td>11/8/2016</td>\n",
       "      <td>11/11/2016</td>\n",
       "      <td>Second Class</td>\n",
       "      <td>CG-12520</td>\n",
       "      <td>Claire Gute</td>\n",
       "      <td>Consumer</td>\n",
       "      <td>United States</td>\n",
       "      <td>Henderson</td>\n",
       "      <td>Kentucky</td>\n",
       "      <td>42420</td>\n",
       "      <td>South</td>\n",
       "      <td>FUR-BO-10001798</td>\n",
       "      <td>Furniture</td>\n",
       "      <td>Bookcases</td>\n",
       "      <td>Bush Somerset Collection Bookcase</td>\n",
       "      <td>261.9600</td>\n",
       "      <td>2</td>\n",
       "      <td>0.00</td>\n",
       "      <td>41.9136</td>\n",
       "    </tr>\n",
       "    <tr>\n",
       "      <th>1</th>\n",
       "      <td>2</td>\n",
       "      <td>CA-2016-152156</td>\n",
       "      <td>11/8/2016</td>\n",
       "      <td>11/11/2016</td>\n",
       "      <td>Second Class</td>\n",
       "      <td>CG-12520</td>\n",
       "      <td>Claire Gute</td>\n",
       "      <td>Consumer</td>\n",
       "      <td>United States</td>\n",
       "      <td>Henderson</td>\n",
       "      <td>Kentucky</td>\n",
       "      <td>42420</td>\n",
       "      <td>South</td>\n",
       "      <td>FUR-CH-10000454</td>\n",
       "      <td>Furniture</td>\n",
       "      <td>Chairs</td>\n",
       "      <td>Hon Deluxe Fabric Upholstered Stacking Chairs,...</td>\n",
       "      <td>731.9400</td>\n",
       "      <td>3</td>\n",
       "      <td>0.00</td>\n",
       "      <td>219.5820</td>\n",
       "    </tr>\n",
       "    <tr>\n",
       "      <th>2</th>\n",
       "      <td>3</td>\n",
       "      <td>CA-2016-138688</td>\n",
       "      <td>6/12/2016</td>\n",
       "      <td>6/16/2016</td>\n",
       "      <td>Second Class</td>\n",
       "      <td>DV-13045</td>\n",
       "      <td>Darrin Van Huff</td>\n",
       "      <td>Corporate</td>\n",
       "      <td>United States</td>\n",
       "      <td>Los Angeles</td>\n",
       "      <td>California</td>\n",
       "      <td>90036</td>\n",
       "      <td>West</td>\n",
       "      <td>OFF-LA-10000240</td>\n",
       "      <td>Office Supplies</td>\n",
       "      <td>Labels</td>\n",
       "      <td>Self-Adhesive Address Labels for Typewriters b...</td>\n",
       "      <td>14.6200</td>\n",
       "      <td>2</td>\n",
       "      <td>0.00</td>\n",
       "      <td>6.8714</td>\n",
       "    </tr>\n",
       "    <tr>\n",
       "      <th>3</th>\n",
       "      <td>4</td>\n",
       "      <td>US-2015-108966</td>\n",
       "      <td>10/11/2015</td>\n",
       "      <td>10/18/2015</td>\n",
       "      <td>Standard Class</td>\n",
       "      <td>SO-20335</td>\n",
       "      <td>Sean O'Donnell</td>\n",
       "      <td>Consumer</td>\n",
       "      <td>United States</td>\n",
       "      <td>Fort Lauderdale</td>\n",
       "      <td>Florida</td>\n",
       "      <td>33311</td>\n",
       "      <td>South</td>\n",
       "      <td>FUR-TA-10000577</td>\n",
       "      <td>Furniture</td>\n",
       "      <td>Tables</td>\n",
       "      <td>Bretford CR4500 Series Slim Rectangular Table</td>\n",
       "      <td>957.5775</td>\n",
       "      <td>5</td>\n",
       "      <td>0.45</td>\n",
       "      <td>-383.0310</td>\n",
       "    </tr>\n",
       "    <tr>\n",
       "      <th>4</th>\n",
       "      <td>5</td>\n",
       "      <td>US-2015-108966</td>\n",
       "      <td>10/11/2015</td>\n",
       "      <td>10/18/2015</td>\n",
       "      <td>Standard Class</td>\n",
       "      <td>SO-20335</td>\n",
       "      <td>Sean O'Donnell</td>\n",
       "      <td>Consumer</td>\n",
       "      <td>United States</td>\n",
       "      <td>Fort Lauderdale</td>\n",
       "      <td>Florida</td>\n",
       "      <td>33311</td>\n",
       "      <td>South</td>\n",
       "      <td>OFF-ST-10000760</td>\n",
       "      <td>Office Supplies</td>\n",
       "      <td>Storage</td>\n",
       "      <td>Eldon Fold 'N Roll Cart System</td>\n",
       "      <td>22.3680</td>\n",
       "      <td>2</td>\n",
       "      <td>0.20</td>\n",
       "      <td>2.5164</td>\n",
       "    </tr>\n",
       "  </tbody>\n",
       "</table>\n",
       "</div>"
      ],
      "text/plain": [
       "   Row ID        Order ID  Order Date   Ship Date       Ship Mode Customer ID  \\\n",
       "0       1  CA-2016-152156   11/8/2016  11/11/2016    Second Class    CG-12520   \n",
       "1       2  CA-2016-152156   11/8/2016  11/11/2016    Second Class    CG-12520   \n",
       "2       3  CA-2016-138688   6/12/2016   6/16/2016    Second Class    DV-13045   \n",
       "3       4  US-2015-108966  10/11/2015  10/18/2015  Standard Class    SO-20335   \n",
       "4       5  US-2015-108966  10/11/2015  10/18/2015  Standard Class    SO-20335   \n",
       "\n",
       "     Customer Name    Segment        Country             City       State  \\\n",
       "0      Claire Gute   Consumer  United States        Henderson    Kentucky   \n",
       "1      Claire Gute   Consumer  United States        Henderson    Kentucky   \n",
       "2  Darrin Van Huff  Corporate  United States      Los Angeles  California   \n",
       "3   Sean O'Donnell   Consumer  United States  Fort Lauderdale     Florida   \n",
       "4   Sean O'Donnell   Consumer  United States  Fort Lauderdale     Florida   \n",
       "\n",
       "   Postal Code Region       Product ID         Category Sub-Category  \\\n",
       "0        42420  South  FUR-BO-10001798        Furniture    Bookcases   \n",
       "1        42420  South  FUR-CH-10000454        Furniture       Chairs   \n",
       "2        90036   West  OFF-LA-10000240  Office Supplies       Labels   \n",
       "3        33311  South  FUR-TA-10000577        Furniture       Tables   \n",
       "4        33311  South  OFF-ST-10000760  Office Supplies      Storage   \n",
       "\n",
       "                                        Product Name     Sales  Quantity  \\\n",
       "0                  Bush Somerset Collection Bookcase  261.9600         2   \n",
       "1  Hon Deluxe Fabric Upholstered Stacking Chairs,...  731.9400         3   \n",
       "2  Self-Adhesive Address Labels for Typewriters b...   14.6200         2   \n",
       "3      Bretford CR4500 Series Slim Rectangular Table  957.5775         5   \n",
       "4                     Eldon Fold 'N Roll Cart System   22.3680         2   \n",
       "\n",
       "   Discount    Profit  \n",
       "0      0.00   41.9136  \n",
       "1      0.00  219.5820  \n",
       "2      0.00    6.8714  \n",
       "3      0.45 -383.0310  \n",
       "4      0.20    2.5164  "
      ]
     },
     "execution_count": 2,
     "metadata": {},
     "output_type": "execute_result"
    }
   ],
   "source": [
    "df = pd.read_csv('Superstore.csv')\n",
    "df.head()"
   ]
  },
  {
   "cell_type": "code",
   "execution_count": 3,
   "id": "02cef681",
   "metadata": {},
   "outputs": [
    {
     "name": "stdout",
     "output_type": "stream",
     "text": [
      "<class 'pandas.core.frame.DataFrame'>\n",
      "RangeIndex: 9994 entries, 0 to 9993\n",
      "Data columns (total 21 columns):\n",
      " #   Column         Non-Null Count  Dtype  \n",
      "---  ------         --------------  -----  \n",
      " 0   Row ID         9994 non-null   int64  \n",
      " 1   Order ID       9994 non-null   object \n",
      " 2   Order Date     9994 non-null   object \n",
      " 3   Ship Date      9994 non-null   object \n",
      " 4   Ship Mode      9994 non-null   object \n",
      " 5   Customer ID    9994 non-null   object \n",
      " 6   Customer Name  9994 non-null   object \n",
      " 7   Segment        9994 non-null   object \n",
      " 8   Country        9994 non-null   object \n",
      " 9   City           9994 non-null   object \n",
      " 10  State          9994 non-null   object \n",
      " 11  Postal Code    9994 non-null   int64  \n",
      " 12  Region         9994 non-null   object \n",
      " 13  Product ID     9994 non-null   object \n",
      " 14  Category       9994 non-null   object \n",
      " 15  Sub-Category   9994 non-null   object \n",
      " 16  Product Name   9994 non-null   object \n",
      " 17  Sales          9994 non-null   float64\n",
      " 18  Quantity       9994 non-null   int64  \n",
      " 19  Discount       9994 non-null   float64\n",
      " 20  Profit         9994 non-null   float64\n",
      "dtypes: float64(3), int64(3), object(15)\n",
      "memory usage: 1.6+ MB\n"
     ]
    }
   ],
   "source": [
    "df.info()"
   ]
  },
  {
   "cell_type": "code",
   "execution_count": 4,
   "id": "abc0d9ff",
   "metadata": {},
   "outputs": [
    {
     "data": {
      "text/plain": [
       "(9994, 21)"
      ]
     },
     "execution_count": 4,
     "metadata": {},
     "output_type": "execute_result"
    }
   ],
   "source": [
    "df.shape"
   ]
  },
  {
   "cell_type": "markdown",
   "id": "075a29d2",
   "metadata": {},
   "source": [
    "# Exploratory Data Analysis"
   ]
  },
  {
   "cell_type": "code",
   "execution_count": 5,
   "id": "23672e38",
   "metadata": {
    "scrolled": true
   },
   "outputs": [
    {
     "name": "stdout",
     "output_type": "stream",
     "text": [
      "2049    1\n",
      "8865    1\n",
      "6806    1\n",
      "4759    1\n",
      "8857    1\n",
      "       ..\n",
      "5432    1\n",
      "7481    1\n",
      "1338    1\n",
      "3387    1\n",
      "2047    1\n",
      "Name: Row ID, Length: 9994, dtype: int64 \n",
      "\n",
      "\n",
      "\n",
      "CA-2017-100111    14\n",
      "CA-2017-157987    12\n",
      "CA-2016-165330    11\n",
      "US-2016-108504    11\n",
      "CA-2016-105732    10\n",
      "                  ..\n",
      "CA-2017-101728     1\n",
      "CA-2014-132542     1\n",
      "CA-2016-140613     1\n",
      "CA-2016-155005     1\n",
      "CA-2015-123330     1\n",
      "Name: Order ID, Length: 5009, dtype: int64 \n",
      "\n",
      "\n",
      "\n",
      "9/5/2016      38\n",
      "9/2/2017      36\n",
      "11/10/2016    35\n",
      "12/1/2017     34\n",
      "12/2/2017     34\n",
      "              ..\n",
      "10/4/2017      1\n",
      "5/11/2015      1\n",
      "6/29/2016      1\n",
      "2/21/2014      1\n",
      "6/14/2015      1\n",
      "Name: Order Date, Length: 1237, dtype: int64 \n",
      "\n",
      "\n",
      "\n",
      "12/16/2015    35\n",
      "9/26/2017     34\n",
      "11/21/2017    32\n",
      "12/6/2017     32\n",
      "9/6/2017      30\n",
      "              ..\n",
      "5/21/2014      1\n",
      "10/23/2016     1\n",
      "6/13/2015      1\n",
      "8/3/2015       1\n",
      "5/9/2015       1\n",
      "Name: Ship Date, Length: 1334, dtype: int64 \n",
      "\n",
      "\n",
      "\n",
      "Standard Class    5968\n",
      "Second Class      1945\n",
      "First Class       1538\n",
      "Same Day           543\n",
      "Name: Ship Mode, dtype: int64 \n",
      "\n",
      "\n",
      "\n",
      "WB-21850    37\n",
      "JL-15835    34\n",
      "MA-17560    34\n",
      "PP-18955    34\n",
      "JD-15895    32\n",
      "            ..\n",
      "CJ-11875     1\n",
      "AO-10810     1\n",
      "JR-15700     1\n",
      "LD-16855     1\n",
      "RE-19405     1\n",
      "Name: Customer ID, Length: 793, dtype: int64 \n",
      "\n",
      "\n",
      "\n",
      "William Brown        37\n",
      "Matt Abelman         34\n",
      "John Lee             34\n",
      "Paul Prost           34\n",
      "Jonathan Doherty     32\n",
      "                     ..\n",
      "Jocasta Rupert        1\n",
      "Carl Jackson          1\n",
      "Ricardo Emerson       1\n",
      "Anthony O'Donnell     1\n",
      "Lela Donovan          1\n",
      "Name: Customer Name, Length: 793, dtype: int64 \n",
      "\n",
      "\n",
      "\n",
      "Consumer       5191\n",
      "Corporate      3020\n",
      "Home Office    1783\n",
      "Name: Segment, dtype: int64 \n",
      "\n",
      "\n",
      "\n",
      "United States    9994\n",
      "Name: Country, dtype: int64 \n",
      "\n",
      "\n",
      "\n",
      "New York City    915\n",
      "Los Angeles      747\n",
      "Philadelphia     537\n",
      "San Francisco    510\n",
      "Seattle          428\n",
      "                ... \n",
      "Tinley Park        1\n",
      "Pensacola          1\n",
      "Lindenhurst        1\n",
      "Rock Hill          1\n",
      "Pico Rivera        1\n",
      "Name: City, Length: 531, dtype: int64 \n",
      "\n",
      "\n",
      "\n",
      "California              2001\n",
      "New York                1128\n",
      "Texas                    985\n",
      "Pennsylvania             587\n",
      "Washington               506\n",
      "Illinois                 492\n",
      "Ohio                     469\n",
      "Florida                  383\n",
      "Michigan                 255\n",
      "North Carolina           249\n",
      "Arizona                  224\n",
      "Virginia                 224\n",
      "Georgia                  184\n",
      "Tennessee                183\n",
      "Colorado                 182\n",
      "Indiana                  149\n",
      "Kentucky                 139\n",
      "Massachusetts            135\n",
      "New Jersey               130\n",
      "Oregon                   124\n",
      "Wisconsin                110\n",
      "Maryland                 105\n",
      "Delaware                  96\n",
      "Minnesota                 89\n",
      "Connecticut               82\n",
      "Missouri                  66\n",
      "Oklahoma                  66\n",
      "Alabama                   61\n",
      "Arkansas                  60\n",
      "Rhode Island              56\n",
      "Utah                      53\n",
      "Mississippi               53\n",
      "Louisiana                 42\n",
      "South Carolina            42\n",
      "Nevada                    39\n",
      "Nebraska                  38\n",
      "New Mexico                37\n",
      "Iowa                      30\n",
      "New Hampshire             27\n",
      "Kansas                    24\n",
      "Idaho                     21\n",
      "Montana                   15\n",
      "South Dakota              12\n",
      "Vermont                   11\n",
      "District of Columbia      10\n",
      "Maine                      8\n",
      "North Dakota               7\n",
      "West Virginia              4\n",
      "Wyoming                    1\n",
      "Name: State, dtype: int64 \n",
      "\n",
      "\n",
      "\n",
      "10035    263\n",
      "10024    230\n",
      "10009    229\n",
      "94122    203\n",
      "10011    193\n",
      "        ... \n",
      "52240      1\n",
      "94509      1\n",
      "53186      1\n",
      "32503      1\n",
      "60025      1\n",
      "Name: Postal Code, Length: 631, dtype: int64 \n",
      "\n",
      "\n",
      "\n",
      "West       3203\n",
      "East       2848\n",
      "Central    2323\n",
      "South      1620\n",
      "Name: Region, dtype: int64 \n",
      "\n",
      "\n",
      "\n",
      "OFF-PA-10001970    19\n",
      "TEC-AC-10003832    18\n",
      "FUR-FU-10004270    16\n",
      "TEC-AC-10002049    15\n",
      "TEC-AC-10003628    15\n",
      "                   ..\n",
      "OFF-AR-10003896     1\n",
      "TEC-MA-10004212     1\n",
      "TEC-MA-10002412     1\n",
      "FUR-TA-10001691     1\n",
      "OFF-LA-10003388     1\n",
      "Name: Product ID, Length: 1862, dtype: int64 \n",
      "\n",
      "\n",
      "\n",
      "Office Supplies    6026\n",
      "Furniture          2121\n",
      "Technology         1847\n",
      "Name: Category, dtype: int64 \n",
      "\n",
      "\n",
      "\n",
      "Binders        1523\n",
      "Paper          1370\n",
      "Furnishings     957\n",
      "Phones          889\n",
      "Storage         846\n",
      "Art             796\n",
      "Accessories     775\n",
      "Chairs          617\n",
      "Appliances      466\n",
      "Labels          364\n",
      "Tables          319\n",
      "Envelopes       254\n",
      "Bookcases       228\n",
      "Fasteners       217\n",
      "Supplies        190\n",
      "Machines        115\n",
      "Copiers          68\n",
      "Name: Sub-Category, dtype: int64 \n",
      "\n",
      "\n",
      "\n",
      "Staple envelope                                                  48\n",
      "Staples                                                          46\n",
      "Easy-staple paper                                                46\n",
      "Avery Non-Stick Binders                                          20\n",
      "Staples in misc. colors                                          19\n",
      "                                                                 ..\n",
      "Avery Hi-Liter Pen Style Six-Color Fluorescent Set                1\n",
      "Hewlett-Packard Deskjet 3050a All-in-One Color Inkjet Printer     1\n",
      "Fellowes Smart Surge Ten-Outlet Protector, Platinum               1\n",
      "PNY Rapid USB Car Charger - Black                                 1\n",
      "Eldon File Chest Portable File                                    1\n",
      "Name: Product Name, Length: 1850, dtype: int64 \n",
      "\n",
      "\n",
      "\n",
      "12.960     56\n",
      "15.552     39\n",
      "19.440     39\n",
      "10.368     36\n",
      "25.920     36\n",
      "           ..\n",
      "598.458     1\n",
      "8.559       1\n",
      "831.200     1\n",
      "45.056      1\n",
      "37.008      1\n",
      "Name: Sales, Length: 5825, dtype: int64 \n",
      "\n",
      "\n",
      "\n",
      "3     2409\n",
      "2     2402\n",
      "5     1230\n",
      "4     1191\n",
      "1      899\n",
      "7      606\n",
      "6      572\n",
      "9      258\n",
      "8      257\n",
      "10      57\n",
      "11      34\n",
      "14      29\n",
      "13      27\n",
      "12      23\n",
      "Name: Quantity, dtype: int64 \n",
      "\n",
      "\n",
      "\n",
      "0.00    4798\n",
      "0.20    3657\n",
      "0.70     418\n",
      "0.80     300\n",
      "0.30     227\n",
      "0.40     206\n",
      "0.60     138\n",
      "0.10      94\n",
      "0.50      66\n",
      "0.15      52\n",
      "0.32      27\n",
      "0.45      11\n",
      "Name: Discount, dtype: int64 \n",
      "\n",
      "\n",
      "\n",
      "0.0000     65\n",
      "6.2208     43\n",
      "9.3312     38\n",
      "5.4432     32\n",
      "3.6288     32\n",
      "           ..\n",
      "23.5764     1\n",
      "14.2020     1\n",
      "10.9602     1\n",
      "29.7024     1\n",
      "16.9975     1\n",
      "Name: Profit, Length: 7287, dtype: int64 \n",
      "\n",
      "\n",
      "\n"
     ]
    }
   ],
   "source": [
    "for i in df.columns:\n",
    "    print(df[i].value_counts(),\"\\n\\n\\n\")"
   ]
  },
  {
   "cell_type": "code",
   "execution_count": 6,
   "id": "6c9e1b20",
   "metadata": {},
   "outputs": [],
   "source": [
    "# Function for plotting \n",
    "def countplot(column,top=5,explain =True):\n",
    "    \"\"\"\n",
    "    column : 'Column Name' of the the feature to plot the countplot\n",
    "    top : top n categories to plot\n",
    "    \"\"\"\n",
    "    plt.figure(figsize=(12,5))\n",
    "    order = df[column].value_counts()[:top].index\n",
    "    sns.countplot(df[df[column].isin(order)][column],order = order, palette='icefire_r')\n",
    "    #sns.countplot(df[df[column].isin(order)][column],order = order,hue = df[df[column].isin(order)][column],palette='icefire_r')\n",
    "    plt.title(f\"Top {top} {column}\")\n",
    "    plt.xticks(rotation = 90)\n",
    "    plt.show()\n",
    "    \n",
    "    if explain:\n",
    "        print(f\"Top {top} {column} are\")\n",
    "        for i,j in enumerate(order):\n",
    "                print(\"\\t\",i+1,j)"
   ]
  },
  {
   "cell_type": "code",
   "execution_count": 7,
   "id": "167e94e2",
   "metadata": {},
   "outputs": [
    {
     "data": {
      "image/png": "[encoded data removed]",
      "text/plain": [
       "<Figure size 864x360 with 1 Axes>"
      ]
     },
     "metadata": {
      "needs_background": "light"
     },
     "output_type": "display_data"
    },
    {
     "name": "stdout",
     "output_type": "stream",
     "text": [
      "Top 5 Ship Mode are\n",
      "\t 1 Standard Class\n",
      "\t 2 Second Class\n",
      "\t 3 First Class\n",
      "\t 4 Same Day\n"
     ]
    }
   ],
   "source": [
    "countplot('Ship Mode')"
   ]
  },
  {
   "cell_type": "code",
   "execution_count": 8,
   "id": "1b845d36",
   "metadata": {},
   "outputs": [
    {
     "data": {
      "image/png": "[encoded data removed]",
      "text/plain": [
       "<Figure size 864x360 with 1 Axes>"
      ]
     },
     "metadata": {
      "needs_background": "light"
     },
     "output_type": "display_data"
    },
    {
     "name": "stdout",
     "output_type": "stream",
     "text": [
      "Top 5 Segment are\n",
      "\t 1 Consumer\n",
      "\t 2 Corporate\n",
      "\t 3 Home Office\n"
     ]
    }
   ],
   "source": [
    "countplot('Segment')"
   ]
  },
  {
   "cell_type": "code",
   "execution_count": 9,
   "id": "f377ac85",
   "metadata": {},
   "outputs": [
    {
     "data": {
      "image/png": "[encoded data removed]",
      "text/plain": [
       "<Figure size 864x360 with 1 Axes>"
      ]
     },
     "metadata": {
      "needs_background": "light"
     },
     "output_type": "display_data"
    },
    {
     "name": "stdout",
     "output_type": "stream",
     "text": [
      "Top 10 City are\n",
      "\t 1 New York City\n",
      "\t 2 Los Angeles\n",
      "\t 3 Philadelphia\n",
      "\t 4 San Francisco\n",
      "\t 5 Seattle\n",
      "\t 6 Houston\n",
      "\t 7 Chicago\n",
      "\t 8 Columbus\n",
      "\t 9 San Diego\n",
      "\t 10 Springfield\n"
     ]
    }
   ],
   "source": [
    "countplot('City',10)"
   ]
  },
  {
   "cell_type": "code",
   "execution_count": 10,
   "id": "229f3b60",
   "metadata": {},
   "outputs": [
    {
     "data": {
      "image/png": "[encoded data removed]",
      "text/plain": [
       "<Figure size 864x360 with 1 Axes>"
      ]
     },
     "metadata": {
      "needs_background": "light"
     },
     "output_type": "display_data"
    },
    {
     "name": "stdout",
     "output_type": "stream",
     "text": [
      "Top 20 Customer Name are\n",
      "\t 1 William Brown\n",
      "\t 2 Matt Abelman\n",
      "\t 3 John Lee\n",
      "\t 4 Paul Prost\n",
      "\t 5 Jonathan Doherty\n",
      "\t 6 Edward Hooks\n",
      "\t 7 Seth Vernon\n",
      "\t 8 Chloris Kastensmidt\n",
      "\t 9 Emily Phan\n",
      "\t 10 Arthur Prichep\n",
      "\t 11 Zuschuss Carroll\n",
      "\t 12 Lena Cacioppo\n",
      "\t 13 Ken Lonsdale\n",
      "\t 14 Brian Moss\n",
      "\t 15 Greg Tran\n",
      "\t 16 Dean percer\n",
      "\t 17 Sally Hughsby\n",
      "\t 18 Kunst Miller\n",
      "\t 19 Xylona Preis\n",
      "\t 20 Chris Selesnick\n"
     ]
    }
   ],
   "source": [
    "countplot('Customer Name',20)"
   ]
  },
  {
   "cell_type": "code",
   "execution_count": 11,
   "id": "e6a0375d",
   "metadata": {},
   "outputs": [
    {
     "data": {
      "image/png": "[encoded data removed]",
      "text/plain": [
       "<Figure size 864x360 with 1 Axes>"
      ]
     },
     "metadata": {
      "needs_background": "light"
     },
     "output_type": "display_data"
    },
    {
     "name": "stdout",
     "output_type": "stream",
     "text": [
      "Top 30 State are\n",
      "\t 1 California\n",
      "\t 2 New York\n",
      "\t 3 Texas\n",
      "\t 4 Pennsylvania\n",
      "\t 5 Washington\n",
      "\t 6 Illinois\n",
      "\t 7 Ohio\n",
      "\t 8 Florida\n",
      "\t 9 Michigan\n",
      "\t 10 North Carolina\n",
      "\t 11 Arizona\n",
      "\t 12 Virginia\n",
      "\t 13 Georgia\n",
      "\t 14 Tennessee\n",
      "\t 15 Colorado\n",
      "\t 16 Indiana\n",
      "\t 17 Kentucky\n",
      "\t 18 Massachusetts\n",
      "\t 19 New Jersey\n",
      "\t 20 Oregon\n",
      "\t 21 Wisconsin\n",
      "\t 22 Maryland\n",
      "\t 23 Delaware\n",
      "\t 24 Minnesota\n",
      "\t 25 Connecticut\n",
      "\t 26 Missouri\n",
      "\t 27 Oklahoma\n",
      "\t 28 Alabama\n",
      "\t 29 Arkansas\n",
      "\t 30 Rhode Island\n"
     ]
    }
   ],
   "source": [
    "countplot('State',30)"
   ]
  },
  {
   "cell_type": "code",
   "execution_count": 12,
   "id": "1cf77c09",
   "metadata": {},
   "outputs": [
    {
     "data": {
      "image/png": "[encoded data removed]",
      "text/plain": [
       "<Figure size 864x360 with 1 Axes>"
      ]
     },
     "metadata": {
      "needs_background": "light"
     },
     "output_type": "display_data"
    },
    {
     "name": "stdout",
     "output_type": "stream",
     "text": [
      "Top 5 Region are\n",
      "\t 1 West\n",
      "\t 2 East\n",
      "\t 3 Central\n",
      "\t 4 South\n"
     ]
    }
   ],
   "source": [
    "countplot('Region')"
   ]
  },
  {
   "cell_type": "code",
   "execution_count": 13,
   "id": "953b8a4e",
   "metadata": {},
   "outputs": [
    {
     "data": {
      "image/png": "[encoded data removed]",
      "text/plain": [
       "<Figure size 864x360 with 1 Axes>"
      ]
     },
     "metadata": {
      "needs_background": "light"
     },
     "output_type": "display_data"
    },
    {
     "name": "stdout",
     "output_type": "stream",
     "text": [
      "Top 5 Category are\n",
      "\t 1 Office Supplies\n",
      "\t 2 Furniture\n",
      "\t 3 Technology\n"
     ]
    }
   ],
   "source": [
    "countplot('Category')"
   ]
  },
  {
   "cell_type": "code",
   "execution_count": 14,
   "id": "84f91b1e",
   "metadata": {},
   "outputs": [
    {
     "data": {
      "image/png": "[encoded data removed]",
      "text/plain": [
       "<Figure size 864x360 with 1 Axes>"
      ]
     },
     "metadata": {
      "needs_background": "light"
     },
     "output_type": "display_data"
    },
    {
     "name": "stdout",
     "output_type": "stream",
     "text": [
      "Top 20 Sub-Category are\n",
      "\t 1 Binders\n",
      "\t 2 Paper\n",
      "\t 3 Furnishings\n",
      "\t 4 Phones\n",
      "\t 5 Storage\n",
      "\t 6 Art\n",
      "\t 7 Accessories\n",
      "\t 8 Chairs\n",
      "\t 9 Appliances\n",
      "\t 10 Labels\n",
      "\t 11 Tables\n",
      "\t 12 Envelopes\n",
      "\t 13 Bookcases\n",
      "\t 14 Fasteners\n",
      "\t 15 Supplies\n",
      "\t 16 Machines\n",
      "\t 17 Copiers\n"
     ]
    }
   ],
   "source": [
    "countplot('Sub-Category',20)"
   ]
  },
  {
   "cell_type": "code",
   "execution_count": 15,
   "id": "d665b63d",
   "metadata": {},
   "outputs": [
    {
     "data": {
      "image/png": "[encoded data removed]",
      "text/plain": [
       "<Figure size 864x360 with 1 Axes>"
      ]
     },
     "metadata": {
      "needs_background": "light"
     },
     "output_type": "display_data"
    },
    {
     "name": "stdout",
     "output_type": "stream",
     "text": [
      "Top 10 Product Name are\n",
      "\t 1 Staple envelope\n",
      "\t 2 Staples\n",
      "\t 3 Easy-staple paper\n",
      "\t 4 Avery Non-Stick Binders\n",
      "\t 5 Staples in misc. colors\n",
      "\t 6 KI Adjustable-Height Table\n",
      "\t 7 Staple remover\n",
      "\t 8 Storex Dura Pro Binders\n",
      "\t 9 Staple-based wall hangings\n",
      "\t 10 Logitech 910-002974 M325 Wireless Mouse for Web Scrolling\n"
     ]
    }
   ],
   "source": [
    "countplot('Product Name',10)"
   ]
  },
  {
   "cell_type": "code",
   "execution_count": 16,
   "id": "e2586639",
   "metadata": {},
   "outputs": [
    {
     "data": {
      "text/plain": [
       "0   2016-11-08\n",
       "1   2016-11-08\n",
       "2   2016-06-12\n",
       "3   2015-10-11\n",
       "4   2015-10-11\n",
       "Name: Order Date, dtype: datetime64[ns]"
      ]
     },
     "execution_count": 16,
     "metadata": {},
     "output_type": "execute_result"
    }
   ],
   "source": [
    "df['Order Date'] = pd.to_datetime(df['Order Date'])\n",
    "df['Ship Date'] = pd.to_datetime(df['Ship Date'])\n",
    "df['Order Date'].head()"
   ]
  },
  {
   "cell_type": "code",
   "execution_count": 17,
   "id": "4c42d548",
   "metadata": {},
   "outputs": [
    {
     "data": {
      "image/png": "[encoded data removed]",
      "text/plain": [
       "<Figure size 432x288 with 1 Axes>"
      ]
     },
     "metadata": {
      "needs_background": "light"
     },
     "output_type": "display_data"
    }
   ],
   "source": [
    "order = df['Order Date'].dt.month.value_counts().index\n",
    "a = sns.countplot(df['Order Date'].dt.month,order = order,palette='PuBu')"
   ]
  },
  {
   "cell_type": "markdown",
   "id": "df372cb2",
   "metadata": {},
   "source": [
    "    November : Thanks Giving (4th Thursday)\n",
    "    December : Christmas\n",
    "    September : Labour Day\n",
    "    October : Halloween"
   ]
  },
  {
   "cell_type": "code",
   "execution_count": 18,
   "id": "35b9b130",
   "metadata": {},
   "outputs": [
    {
     "data": {
      "text/plain": [
       "[<matplotlib.lines.Line2D at 0x225b85d18e0>]"
      ]
     },
     "execution_count": 18,
     "metadata": {},
     "output_type": "execute_result"
    },
    {
     "data": {
      "image/png": "[encoded data removed]",
      "text/plain": [
       "<Figure size 432x288 with 1 Axes>"
      ]
     },
     "metadata": {
      "needs_background": "light"
     },
     "output_type": "display_data"
    }
   ],
   "source": [
    "plt.plot(df['Profit'])"
   ]
  },
  {
   "cell_type": "code",
   "execution_count": 19,
   "id": "24668fb3",
   "metadata": {},
   "outputs": [
    {
     "data": {
      "text/plain": [
       "[<matplotlib.lines.Line2D at 0x225b86380a0>]"
      ]
     },
     "execution_count": 19,
     "metadata": {},
     "output_type": "execute_result"
    },
    {
     "data": {
      "image/png": "[encoded data removed]",
      "text/plain": [
       "<Figure size 432x288 with 1 Axes>"
      ]
     },
     "metadata": {
      "needs_background": "light"
     },
     "output_type": "display_data"
    }
   ],
   "source": [
    "plt.plot(df['Sales'])"
   ]
  },
  {
   "cell_type": "code",
   "execution_count": 20,
   "id": "36f49776",
   "metadata": {},
   "outputs": [],
   "source": [
    "# Function for plotting \n",
    "def barplot(column,top=15):\n",
    "    \"\"\"\n",
    "    column : 'Column Name' of the the feature to plot the barplot\n",
    "    top : top n categories to plot\n",
    "    \"\"\"\n",
    "    plt.figure(figsize=(12,5))\n",
    "    temp = df.sort_values('Sales',ascending=False)\n",
    "    order = temp[column].value_counts()[:top].index\n",
    "    sns.barplot(temp[temp[column].isin(order)][column] , temp['Sales'], order = order)\n",
    "    #sns.countplot(df[df[column].isin(order)][column],order = order,hue = df[df[column].isin(order)][column],palette='icefire_r')\n",
    "    plt.title(f\"Top {top} sales in {column} \")\n",
    "    plt.xticks(rotation = 45)\n",
    "    plt.show()"
   ]
  },
  {
   "cell_type": "code",
   "execution_count": 21,
   "id": "c43659ea",
   "metadata": {
    "scrolled": false
   },
   "outputs": [
    {
     "data": {
      "image/png": "[encoded data removed]",
      "text/plain": [
       "<Figure size 864x360 with 1 Axes>"
      ]
     },
     "metadata": {
      "needs_background": "light"
     },
     "output_type": "display_data"
    },
    {
     "data": {
      "image/png": "[encoded data removed]",
      "text/plain": [
       "<Figure size 864x360 with 1 Axes>"
      ]
     },
     "metadata": {
      "needs_background": "light"
     },
     "output_type": "display_data"
    },
    {
     "data": {
      "image/png": "[encoded data removed]",
      "text/plain": [
       "<Figure size 864x360 with 1 Axes>"
      ]
     },
     "metadata": {
      "needs_background": "light"
     },
     "output_type": "display_data"
    },
    {
     "data": {
      "image/png": "[encoded data removed]",
      "text/plain": [
       "<Figure size 864x360 with 1 Axes>"
      ]
     },
     "metadata": {
      "needs_background": "light"
     },
     "output_type": "display_data"
    },
    {
     "data": {
      "image/png": "[encoded data removed]",
      "text/plain": [
       "<Figure size 864x360 with 1 Axes>"
      ]
     },
     "metadata": {
      "needs_background": "light"
     },
     "output_type": "display_data"
    }
   ],
   "source": [
    "cols = ['Segment','City','State','Category','Sub-Category']\n",
    "for i in cols:\n",
    "    barplot(i)"
   ]
  },
  {
   "cell_type": "markdown",
   "id": "a57c6960",
   "metadata": {},
   "source": [
    "# Feature Engineering"
   ]
  },
  {
   "cell_type": "code",
   "execution_count": 22,
   "id": "a5b74e3f",
   "metadata": {},
   "outputs": [
    {
     "data": {
      "text/plain": [
       "Row ID           0\n",
       "Order ID         0\n",
       "Order Date       0\n",
       "Ship Date        0\n",
       "Ship Mode        0\n",
       "Customer ID      0\n",
       "Customer Name    0\n",
       "Segment          0\n",
       "Country          0\n",
       "City             0\n",
       "State            0\n",
       "Postal Code      0\n",
       "Region           0\n",
       "Product ID       0\n",
       "Category         0\n",
       "Sub-Category     0\n",
       "Product Name     0\n",
       "Sales            0\n",
       "Quantity         0\n",
       "Discount         0\n",
       "Profit           0\n",
       "dtype: int64"
      ]
     },
     "execution_count": 22,
     "metadata": {},
     "output_type": "execute_result"
    }
   ],
   "source": [
    "# Checking null values\n",
    "df.isnull().sum()"
   ]
  },
  {
   "cell_type": "code",
   "execution_count": 23,
   "id": "f0ddc590",
   "metadata": {},
   "outputs": [
    {
     "data": {
      "text/plain": [
       "Index(['Row ID', 'Order ID', 'Order Date', 'Ship Date', 'Ship Mode',\n",
       "       'Customer ID', 'Customer Name', 'Segment', 'Country', 'City', 'State',\n",
       "       'Postal Code', 'Region', 'Product ID', 'Category', 'Sub-Category',\n",
       "       'Product Name', 'Sales', 'Quantity', 'Discount', 'Profit'],\n",
       "      dtype='object')"
      ]
     },
     "execution_count": 23,
     "metadata": {},
     "output_type": "execute_result"
    }
   ],
   "source": [
    "df.columns"
   ]
  },
  {
   "cell_type": "code",
   "execution_count": 24,
   "id": "d8b81f1a",
   "metadata": {},
   "outputs": [],
   "source": [
    "df['Order_Month'] = df['Order Date'].dt.month\n",
    "df['Order_Month'] = df['Order_Month'].astype('object')"
   ]
  },
  {
   "cell_type": "code",
   "execution_count": 25,
   "id": "157e5501",
   "metadata": {},
   "outputs": [],
   "source": [
    "# Dropping non useful values\n",
    "df.drop(['Row ID','Order ID','Customer ID','Customer Name','Country','City','Postal Code','Ship Date',\n",
    "         'Region','Product ID','Product Name','Order Date'],1,inplace=True)"
   ]
  },
  {
   "cell_type": "code",
   "execution_count": 26,
   "id": "e1dc7153",
   "metadata": {
    "scrolled": false
   },
   "outputs": [
    {
     "data": {
      "text/html": [
       "<div>\n",
       "<style scoped>\n",
       "    .dataframe tbody tr th:only-of-type {\n",
       "        vertical-align: middle;\n",
       "    }\n",
       "\n",
       "    .dataframe tbody tr th {\n",
       "        vertical-align: top;\n",
       "    }\n",
       "\n",
       "    .dataframe thead th {\n",
       "        text-align: right;\n",
       "    }\n",
       "</style>\n",
       "<table border=\"1\" class=\"dataframe\">\n",
       "  <thead>\n",
       "    <tr style=\"text-align: right;\">\n",
       "      <th></th>\n",
       "      <th>Ship Mode_First Class</th>\n",
       "      <th>Ship Mode_Same Day</th>\n",
       "      <th>Ship Mode_Second Class</th>\n",
       "      <th>Ship Mode_Standard Class</th>\n",
       "      <th>Segment_Consumer</th>\n",
       "      <th>Segment_Corporate</th>\n",
       "      <th>Segment_Home Office</th>\n",
       "      <th>Category_Furniture</th>\n",
       "      <th>Category_Office Supplies</th>\n",
       "      <th>Category_Technology</th>\n",
       "      <th>Sub-Category_Accessories</th>\n",
       "      <th>Sub-Category_Appliances</th>\n",
       "      <th>Sub-Category_Art</th>\n",
       "      <th>Sub-Category_Binders</th>\n",
       "      <th>Sub-Category_Bookcases</th>\n",
       "      <th>Sub-Category_Chairs</th>\n",
       "      <th>Sub-Category_Copiers</th>\n",
       "      <th>Sub-Category_Envelopes</th>\n",
       "      <th>Sub-Category_Fasteners</th>\n",
       "      <th>Sub-Category_Furnishings</th>\n",
       "      <th>Sub-Category_Labels</th>\n",
       "      <th>Sub-Category_Machines</th>\n",
       "      <th>Sub-Category_Paper</th>\n",
       "      <th>Sub-Category_Phones</th>\n",
       "      <th>Sub-Category_Storage</th>\n",
       "      <th>Sub-Category_Supplies</th>\n",
       "      <th>Sub-Category_Tables</th>\n",
       "      <th>Order_Month_1</th>\n",
       "      <th>Order_Month_2</th>\n",
       "      <th>Order_Month_3</th>\n",
       "      <th>Order_Month_4</th>\n",
       "      <th>Order_Month_5</th>\n",
       "      <th>Order_Month_6</th>\n",
       "      <th>Order_Month_7</th>\n",
       "      <th>Order_Month_8</th>\n",
       "      <th>Order_Month_9</th>\n",
       "      <th>Order_Month_10</th>\n",
       "      <th>Order_Month_11</th>\n",
       "      <th>Order_Month_12</th>\n",
       "    </tr>\n",
       "  </thead>\n",
       "  <tbody>\n",
       "    <tr>\n",
       "      <th>0</th>\n",
       "      <td>0</td>\n",
       "      <td>0</td>\n",
       "      <td>1</td>\n",
       "      <td>0</td>\n",
       "      <td>1</td>\n",
       "      <td>0</td>\n",
       "      <td>0</td>\n",
       "      <td>1</td>\n",
       "      <td>0</td>\n",
       "      <td>0</td>\n",
       "      <td>0</td>\n",
       "      <td>0</td>\n",
       "      <td>0</td>\n",
       "      <td>0</td>\n",
       "      <td>1</td>\n",
       "      <td>0</td>\n",
       "      <td>0</td>\n",
       "      <td>0</td>\n",
       "      <td>0</td>\n",
       "      <td>0</td>\n",
       "      <td>0</td>\n",
       "      <td>0</td>\n",
       "      <td>0</td>\n",
       "      <td>0</td>\n",
       "      <td>0</td>\n",
       "      <td>0</td>\n",
       "      <td>0</td>\n",
       "      <td>0</td>\n",
       "      <td>0</td>\n",
       "      <td>0</td>\n",
       "      <td>0</td>\n",
       "      <td>0</td>\n",
       "      <td>0</td>\n",
       "      <td>0</td>\n",
       "      <td>0</td>\n",
       "      <td>0</td>\n",
       "      <td>0</td>\n",
       "      <td>1</td>\n",
       "      <td>0</td>\n",
       "    </tr>\n",
       "    <tr>\n",
       "      <th>1</th>\n",
       "      <td>0</td>\n",
       "      <td>0</td>\n",
       "      <td>1</td>\n",
       "      <td>0</td>\n",
       "      <td>1</td>\n",
       "      <td>0</td>\n",
       "      <td>0</td>\n",
       "      <td>1</td>\n",
       "      <td>0</td>\n",
       "      <td>0</td>\n",
       "      <td>0</td>\n",
       "      <td>0</td>\n",
       "      <td>0</td>\n",
       "      <td>0</td>\n",
       "      <td>0</td>\n",
       "      <td>1</td>\n",
       "      <td>0</td>\n",
       "      <td>0</td>\n",
       "      <td>0</td>\n",
       "      <td>0</td>\n",
       "      <td>0</td>\n",
       "      <td>0</td>\n",
       "      <td>0</td>\n",
       "      <td>0</td>\n",
       "      <td>0</td>\n",
       "      <td>0</td>\n",
       "      <td>0</td>\n",
       "      <td>0</td>\n",
       "      <td>0</td>\n",
       "      <td>0</td>\n",
       "      <td>0</td>\n",
       "      <td>0</td>\n",
       "      <td>0</td>\n",
       "      <td>0</td>\n",
       "      <td>0</td>\n",
       "      <td>0</td>\n",
       "      <td>0</td>\n",
       "      <td>1</td>\n",
       "      <td>0</td>\n",
       "    </tr>\n",
       "    <tr>\n",
       "      <th>2</th>\n",
       "      <td>0</td>\n",
       "      <td>0</td>\n",
       "      <td>1</td>\n",
       "      <td>0</td>\n",
       "      <td>0</td>\n",
       "      <td>1</td>\n",
       "      <td>0</td>\n",
       "      <td>0</td>\n",
       "      <td>1</td>\n",
       "      <td>0</td>\n",
       "      <td>0</td>\n",
       "      <td>0</td>\n",
       "      <td>0</td>\n",
       "      <td>0</td>\n",
       "      <td>0</td>\n",
       "      <td>0</td>\n",
       "      <td>0</td>\n",
       "      <td>0</td>\n",
       "      <td>0</td>\n",
       "      <td>0</td>\n",
       "      <td>1</td>\n",
       "      <td>0</td>\n",
       "      <td>0</td>\n",
       "      <td>0</td>\n",
       "      <td>0</td>\n",
       "      <td>0</td>\n",
       "      <td>0</td>\n",
       "      <td>0</td>\n",
       "      <td>0</td>\n",
       "      <td>0</td>\n",
       "      <td>0</td>\n",
       "      <td>0</td>\n",
       "      <td>1</td>\n",
       "      <td>0</td>\n",
       "      <td>0</td>\n",
       "      <td>0</td>\n",
       "      <td>0</td>\n",
       "      <td>0</td>\n",
       "      <td>0</td>\n",
       "    </tr>\n",
       "    <tr>\n",
       "      <th>3</th>\n",
       "      <td>0</td>\n",
       "      <td>0</td>\n",
       "      <td>0</td>\n",
       "      <td>1</td>\n",
       "      <td>1</td>\n",
       "      <td>0</td>\n",
       "      <td>0</td>\n",
       "      <td>1</td>\n",
       "      <td>0</td>\n",
       "      <td>0</td>\n",
       "      <td>0</td>\n",
       "      <td>0</td>\n",
       "      <td>0</td>\n",
       "      <td>0</td>\n",
       "      <td>0</td>\n",
       "      <td>0</td>\n",
       "      <td>0</td>\n",
       "      <td>0</td>\n",
       "      <td>0</td>\n",
       "      <td>0</td>\n",
       "      <td>0</td>\n",
       "      <td>0</td>\n",
       "      <td>0</td>\n",
       "      <td>0</td>\n",
       "      <td>0</td>\n",
       "      <td>0</td>\n",
       "      <td>1</td>\n",
       "      <td>0</td>\n",
       "      <td>0</td>\n",
       "      <td>0</td>\n",
       "      <td>0</td>\n",
       "      <td>0</td>\n",
       "      <td>0</td>\n",
       "      <td>0</td>\n",
       "      <td>0</td>\n",
       "      <td>0</td>\n",
       "      <td>1</td>\n",
       "      <td>0</td>\n",
       "      <td>0</td>\n",
       "    </tr>\n",
       "    <tr>\n",
       "      <th>4</th>\n",
       "      <td>0</td>\n",
       "      <td>0</td>\n",
       "      <td>0</td>\n",
       "      <td>1</td>\n",
       "      <td>1</td>\n",
       "      <td>0</td>\n",
       "      <td>0</td>\n",
       "      <td>0</td>\n",
       "      <td>1</td>\n",
       "      <td>0</td>\n",
       "      <td>0</td>\n",
       "      <td>0</td>\n",
       "      <td>0</td>\n",
       "      <td>0</td>\n",
       "      <td>0</td>\n",
       "      <td>0</td>\n",
       "      <td>0</td>\n",
       "      <td>0</td>\n",
       "      <td>0</td>\n",
       "      <td>0</td>\n",
       "      <td>0</td>\n",
       "      <td>0</td>\n",
       "      <td>0</td>\n",
       "      <td>0</td>\n",
       "      <td>1</td>\n",
       "      <td>0</td>\n",
       "      <td>0</td>\n",
       "      <td>0</td>\n",
       "      <td>0</td>\n",
       "      <td>0</td>\n",
       "      <td>0</td>\n",
       "      <td>0</td>\n",
       "      <td>0</td>\n",
       "      <td>0</td>\n",
       "      <td>0</td>\n",
       "      <td>0</td>\n",
       "      <td>1</td>\n",
       "      <td>0</td>\n",
       "      <td>0</td>\n",
       "    </tr>\n",
       "  </tbody>\n",
       "</table>\n",
       "</div>"
      ],
      "text/plain": [
       "   Ship Mode_First Class  Ship Mode_Same Day  Ship Mode_Second Class  \\\n",
       "0                      0                   0                       1   \n",
       "1                      0                   0                       1   \n",
       "2                      0                   0                       1   \n",
       "3                      0                   0                       0   \n",
       "4                      0                   0                       0   \n",
       "\n",
       "   Ship Mode_Standard Class  Segment_Consumer  Segment_Corporate  \\\n",
       "0                         0                 1                  0   \n",
       "1                         0                 1                  0   \n",
       "2                         0                 0                  1   \n",
       "3                         1                 1                  0   \n",
       "4                         1                 1                  0   \n",
       "\n",
       "   Segment_Home Office  Category_Furniture  Category_Office Supplies  \\\n",
       "0                    0                   1                         0   \n",
       "1                    0                   1                         0   \n",
       "2                    0                   0                         1   \n",
       "3                    0                   1                         0   \n",
       "4                    0                   0                         1   \n",
       "\n",
       "   Category_Technology  Sub-Category_Accessories  Sub-Category_Appliances  \\\n",
       "0                    0                         0                        0   \n",
       "1                    0                         0                        0   \n",
       "2                    0                         0                        0   \n",
       "3                    0                         0                        0   \n",
       "4                    0                         0                        0   \n",
       "\n",
       "   Sub-Category_Art  Sub-Category_Binders  Sub-Category_Bookcases  \\\n",
       "0                 0                     0                       1   \n",
       "1                 0                     0                       0   \n",
       "2                 0                     0                       0   \n",
       "3                 0                     0                       0   \n",
       "4                 0                     0                       0   \n",
       "\n",
       "   Sub-Category_Chairs  Sub-Category_Copiers  Sub-Category_Envelopes  \\\n",
       "0                    0                     0                       0   \n",
       "1                    1                     0                       0   \n",
       "2                    0                     0                       0   \n",
       "3                    0                     0                       0   \n",
       "4                    0                     0                       0   \n",
       "\n",
       "   Sub-Category_Fasteners  Sub-Category_Furnishings  Sub-Category_Labels  \\\n",
       "0                       0                         0                    0   \n",
       "1                       0                         0                    0   \n",
       "2                       0                         0                    1   \n",
       "3                       0                         0                    0   \n",
       "4                       0                         0                    0   \n",
       "\n",
       "   Sub-Category_Machines  Sub-Category_Paper  Sub-Category_Phones  \\\n",
       "0                      0                   0                    0   \n",
       "1                      0                   0                    0   \n",
       "2                      0                   0                    0   \n",
       "3                      0                   0                    0   \n",
       "4                      0                   0                    0   \n",
       "\n",
       "   Sub-Category_Storage  Sub-Category_Supplies  Sub-Category_Tables  \\\n",
       "0                     0                      0                    0   \n",
       "1                     0                      0                    0   \n",
       "2                     0                      0                    0   \n",
       "3                     0                      0                    1   \n",
       "4                     1                      0                    0   \n",
       "\n",
       "   Order_Month_1  Order_Month_2  Order_Month_3  Order_Month_4  Order_Month_5  \\\n",
       "0              0              0              0              0              0   \n",
       "1              0              0              0              0              0   \n",
       "2              0              0              0              0              0   \n",
       "3              0              0              0              0              0   \n",
       "4              0              0              0              0              0   \n",
       "\n",
       "   Order_Month_6  Order_Month_7  Order_Month_8  Order_Month_9  Order_Month_10  \\\n",
       "0              0              0              0              0               0   \n",
       "1              0              0              0              0               0   \n",
       "2              1              0              0              0               0   \n",
       "3              0              0              0              0               1   \n",
       "4              0              0              0              0               1   \n",
       "\n",
       "   Order_Month_11  Order_Month_12  \n",
       "0               1               0  \n",
       "1               1               0  \n",
       "2               0               0  \n",
       "3               0               0  \n",
       "4               0               0  "
      ]
     },
     "execution_count": 26,
     "metadata": {},
     "output_type": "execute_result"
    }
   ],
   "source": [
    "# Creating Dummies\n",
    "dummies = pd.get_dummies(df[['Ship Mode', 'Segment',  'Category', 'Sub-Category','Order_Month']])\n",
    "dummies.head()"
   ]
  },
  {
   "cell_type": "code",
   "execution_count": 27,
   "id": "2c0143a3",
   "metadata": {},
   "outputs": [],
   "source": [
    "# Creating backup\n",
    "new_df = df"
   ]
  },
  {
   "cell_type": "code",
   "execution_count": 28,
   "id": "586eb30b",
   "metadata": {},
   "outputs": [
    {
     "data": {
      "text/html": [
       "<div>\n",
       "<style scoped>\n",
       "    .dataframe tbody tr th:only-of-type {\n",
       "        vertical-align: middle;\n",
       "    }\n",
       "\n",
       "    .dataframe tbody tr th {\n",
       "        vertical-align: top;\n",
       "    }\n",
       "\n",
       "    .dataframe thead th {\n",
       "        text-align: right;\n",
       "    }\n",
       "</style>\n",
       "<table border=\"1\" class=\"dataframe\">\n",
       "  <thead>\n",
       "    <tr style=\"text-align: right;\">\n",
       "      <th></th>\n",
       "      <th>Sales</th>\n",
       "      <th>Quantity</th>\n",
       "      <th>Discount</th>\n",
       "      <th>Profit</th>\n",
       "      <th>Ship Mode_First Class</th>\n",
       "      <th>Ship Mode_Same Day</th>\n",
       "      <th>Ship Mode_Second Class</th>\n",
       "      <th>Ship Mode_Standard Class</th>\n",
       "      <th>Segment_Consumer</th>\n",
       "      <th>Segment_Corporate</th>\n",
       "      <th>Segment_Home Office</th>\n",
       "      <th>Category_Furniture</th>\n",
       "      <th>Category_Office Supplies</th>\n",
       "      <th>Category_Technology</th>\n",
       "      <th>Sub-Category_Accessories</th>\n",
       "      <th>Sub-Category_Appliances</th>\n",
       "      <th>Sub-Category_Art</th>\n",
       "      <th>Sub-Category_Binders</th>\n",
       "      <th>Sub-Category_Bookcases</th>\n",
       "      <th>Sub-Category_Chairs</th>\n",
       "      <th>Sub-Category_Copiers</th>\n",
       "      <th>Sub-Category_Envelopes</th>\n",
       "      <th>Sub-Category_Fasteners</th>\n",
       "      <th>Sub-Category_Furnishings</th>\n",
       "      <th>Sub-Category_Labels</th>\n",
       "      <th>Sub-Category_Machines</th>\n",
       "      <th>Sub-Category_Paper</th>\n",
       "      <th>Sub-Category_Phones</th>\n",
       "      <th>Sub-Category_Storage</th>\n",
       "      <th>Sub-Category_Supplies</th>\n",
       "      <th>Sub-Category_Tables</th>\n",
       "      <th>Order_Month_1</th>\n",
       "      <th>Order_Month_2</th>\n",
       "      <th>Order_Month_3</th>\n",
       "      <th>Order_Month_4</th>\n",
       "      <th>Order_Month_5</th>\n",
       "      <th>Order_Month_6</th>\n",
       "      <th>Order_Month_7</th>\n",
       "      <th>Order_Month_8</th>\n",
       "      <th>Order_Month_9</th>\n",
       "      <th>Order_Month_10</th>\n",
       "      <th>Order_Month_11</th>\n",
       "      <th>Order_Month_12</th>\n",
       "    </tr>\n",
       "  </thead>\n",
       "  <tbody>\n",
       "    <tr>\n",
       "      <th>0</th>\n",
       "      <td>261.9600</td>\n",
       "      <td>2</td>\n",
       "      <td>0.00</td>\n",
       "      <td>41.9136</td>\n",
       "      <td>0</td>\n",
       "      <td>0</td>\n",
       "      <td>1</td>\n",
       "      <td>0</td>\n",
       "      <td>1</td>\n",
       "      <td>0</td>\n",
       "      <td>0</td>\n",
       "      <td>1</td>\n",
       "      <td>0</td>\n",
       "      <td>0</td>\n",
       "      <td>0</td>\n",
       "      <td>0</td>\n",
       "      <td>0</td>\n",
       "      <td>0</td>\n",
       "      <td>1</td>\n",
       "      <td>0</td>\n",
       "      <td>0</td>\n",
       "      <td>0</td>\n",
       "      <td>0</td>\n",
       "      <td>0</td>\n",
       "      <td>0</td>\n",
       "      <td>0</td>\n",
       "      <td>0</td>\n",
       "      <td>0</td>\n",
       "      <td>0</td>\n",
       "      <td>0</td>\n",
       "      <td>0</td>\n",
       "      <td>0</td>\n",
       "      <td>0</td>\n",
       "      <td>0</td>\n",
       "      <td>0</td>\n",
       "      <td>0</td>\n",
       "      <td>0</td>\n",
       "      <td>0</td>\n",
       "      <td>0</td>\n",
       "      <td>0</td>\n",
       "      <td>0</td>\n",
       "      <td>1</td>\n",
       "      <td>0</td>\n",
       "    </tr>\n",
       "    <tr>\n",
       "      <th>1</th>\n",
       "      <td>731.9400</td>\n",
       "      <td>3</td>\n",
       "      <td>0.00</td>\n",
       "      <td>219.5820</td>\n",
       "      <td>0</td>\n",
       "      <td>0</td>\n",
       "      <td>1</td>\n",
       "      <td>0</td>\n",
       "      <td>1</td>\n",
       "      <td>0</td>\n",
       "      <td>0</td>\n",
       "      <td>1</td>\n",
       "      <td>0</td>\n",
       "      <td>0</td>\n",
       "      <td>0</td>\n",
       "      <td>0</td>\n",
       "      <td>0</td>\n",
       "      <td>0</td>\n",
       "      <td>0</td>\n",
       "      <td>1</td>\n",
       "      <td>0</td>\n",
       "      <td>0</td>\n",
       "      <td>0</td>\n",
       "      <td>0</td>\n",
       "      <td>0</td>\n",
       "      <td>0</td>\n",
       "      <td>0</td>\n",
       "      <td>0</td>\n",
       "      <td>0</td>\n",
       "      <td>0</td>\n",
       "      <td>0</td>\n",
       "      <td>0</td>\n",
       "      <td>0</td>\n",
       "      <td>0</td>\n",
       "      <td>0</td>\n",
       "      <td>0</td>\n",
       "      <td>0</td>\n",
       "      <td>0</td>\n",
       "      <td>0</td>\n",
       "      <td>0</td>\n",
       "      <td>0</td>\n",
       "      <td>1</td>\n",
       "      <td>0</td>\n",
       "    </tr>\n",
       "    <tr>\n",
       "      <th>2</th>\n",
       "      <td>14.6200</td>\n",
       "      <td>2</td>\n",
       "      <td>0.00</td>\n",
       "      <td>6.8714</td>\n",
       "      <td>0</td>\n",
       "      <td>0</td>\n",
       "      <td>1</td>\n",
       "      <td>0</td>\n",
       "      <td>0</td>\n",
       "      <td>1</td>\n",
       "      <td>0</td>\n",
       "      <td>0</td>\n",
       "      <td>1</td>\n",
       "      <td>0</td>\n",
       "      <td>0</td>\n",
       "      <td>0</td>\n",
       "      <td>0</td>\n",
       "      <td>0</td>\n",
       "      <td>0</td>\n",
       "      <td>0</td>\n",
       "      <td>0</td>\n",
       "      <td>0</td>\n",
       "      <td>0</td>\n",
       "      <td>0</td>\n",
       "      <td>1</td>\n",
       "      <td>0</td>\n",
       "      <td>0</td>\n",
       "      <td>0</td>\n",
       "      <td>0</td>\n",
       "      <td>0</td>\n",
       "      <td>0</td>\n",
       "      <td>0</td>\n",
       "      <td>0</td>\n",
       "      <td>0</td>\n",
       "      <td>0</td>\n",
       "      <td>0</td>\n",
       "      <td>1</td>\n",
       "      <td>0</td>\n",
       "      <td>0</td>\n",
       "      <td>0</td>\n",
       "      <td>0</td>\n",
       "      <td>0</td>\n",
       "      <td>0</td>\n",
       "    </tr>\n",
       "    <tr>\n",
       "      <th>3</th>\n",
       "      <td>957.5775</td>\n",
       "      <td>5</td>\n",
       "      <td>0.45</td>\n",
       "      <td>-383.0310</td>\n",
       "      <td>0</td>\n",
       "      <td>0</td>\n",
       "      <td>0</td>\n",
       "      <td>1</td>\n",
       "      <td>1</td>\n",
       "      <td>0</td>\n",
       "      <td>0</td>\n",
       "      <td>1</td>\n",
       "      <td>0</td>\n",
       "      <td>0</td>\n",
       "      <td>0</td>\n",
       "      <td>0</td>\n",
       "      <td>0</td>\n",
       "      <td>0</td>\n",
       "      <td>0</td>\n",
       "      <td>0</td>\n",
       "      <td>0</td>\n",
       "      <td>0</td>\n",
       "      <td>0</td>\n",
       "      <td>0</td>\n",
       "      <td>0</td>\n",
       "      <td>0</td>\n",
       "      <td>0</td>\n",
       "      <td>0</td>\n",
       "      <td>0</td>\n",
       "      <td>0</td>\n",
       "      <td>1</td>\n",
       "      <td>0</td>\n",
       "      <td>0</td>\n",
       "      <td>0</td>\n",
       "      <td>0</td>\n",
       "      <td>0</td>\n",
       "      <td>0</td>\n",
       "      <td>0</td>\n",
       "      <td>0</td>\n",
       "      <td>0</td>\n",
       "      <td>1</td>\n",
       "      <td>0</td>\n",
       "      <td>0</td>\n",
       "    </tr>\n",
       "    <tr>\n",
       "      <th>4</th>\n",
       "      <td>22.3680</td>\n",
       "      <td>2</td>\n",
       "      <td>0.20</td>\n",
       "      <td>2.5164</td>\n",
       "      <td>0</td>\n",
       "      <td>0</td>\n",
       "      <td>0</td>\n",
       "      <td>1</td>\n",
       "      <td>1</td>\n",
       "      <td>0</td>\n",
       "      <td>0</td>\n",
       "      <td>0</td>\n",
       "      <td>1</td>\n",
       "      <td>0</td>\n",
       "      <td>0</td>\n",
       "      <td>0</td>\n",
       "      <td>0</td>\n",
       "      <td>0</td>\n",
       "      <td>0</td>\n",
       "      <td>0</td>\n",
       "      <td>0</td>\n",
       "      <td>0</td>\n",
       "      <td>0</td>\n",
       "      <td>0</td>\n",
       "      <td>0</td>\n",
       "      <td>0</td>\n",
       "      <td>0</td>\n",
       "      <td>0</td>\n",
       "      <td>1</td>\n",
       "      <td>0</td>\n",
       "      <td>0</td>\n",
       "      <td>0</td>\n",
       "      <td>0</td>\n",
       "      <td>0</td>\n",
       "      <td>0</td>\n",
       "      <td>0</td>\n",
       "      <td>0</td>\n",
       "      <td>0</td>\n",
       "      <td>0</td>\n",
       "      <td>0</td>\n",
       "      <td>1</td>\n",
       "      <td>0</td>\n",
       "      <td>0</td>\n",
       "    </tr>\n",
       "  </tbody>\n",
       "</table>\n",
       "</div>"
      ],
      "text/plain": [
       "      Sales  Quantity  Discount    Profit  Ship Mode_First Class  \\\n",
       "0  261.9600         2      0.00   41.9136                      0   \n",
       "1  731.9400         3      0.00  219.5820                      0   \n",
       "2   14.6200         2      0.00    6.8714                      0   \n",
       "3  957.5775         5      0.45 -383.0310                      0   \n",
       "4   22.3680         2      0.20    2.5164                      0   \n",
       "\n",
       "   Ship Mode_Same Day  Ship Mode_Second Class  Ship Mode_Standard Class  \\\n",
       "0                   0                       1                         0   \n",
       "1                   0                       1                         0   \n",
       "2                   0                       1                         0   \n",
       "3                   0                       0                         1   \n",
       "4                   0                       0                         1   \n",
       "\n",
       "   Segment_Consumer  Segment_Corporate  Segment_Home Office  \\\n",
       "0                 1                  0                    0   \n",
       "1                 1                  0                    0   \n",
       "2                 0                  1                    0   \n",
       "3                 1                  0                    0   \n",
       "4                 1                  0                    0   \n",
       "\n",
       "   Category_Furniture  Category_Office Supplies  Category_Technology  \\\n",
       "0                   1                         0                    0   \n",
       "1                   1                         0                    0   \n",
       "2                   0                         1                    0   \n",
       "3                   1                         0                    0   \n",
       "4                   0                         1                    0   \n",
       "\n",
       "   Sub-Category_Accessories  Sub-Category_Appliances  Sub-Category_Art  \\\n",
       "0                         0                        0                 0   \n",
       "1                         0                        0                 0   \n",
       "2                         0                        0                 0   \n",
       "3                         0                        0                 0   \n",
       "4                         0                        0                 0   \n",
       "\n",
       "   Sub-Category_Binders  Sub-Category_Bookcases  Sub-Category_Chairs  \\\n",
       "0                     0                       1                    0   \n",
       "1                     0                       0                    1   \n",
       "2                     0                       0                    0   \n",
       "3                     0                       0                    0   \n",
       "4                     0                       0                    0   \n",
       "\n",
       "   Sub-Category_Copiers  Sub-Category_Envelopes  Sub-Category_Fasteners  \\\n",
       "0                     0                       0                       0   \n",
       "1                     0                       0                       0   \n",
       "2                     0                       0                       0   \n",
       "3                     0                       0                       0   \n",
       "4                     0                       0                       0   \n",
       "\n",
       "   Sub-Category_Furnishings  Sub-Category_Labels  Sub-Category_Machines  \\\n",
       "0                         0                    0                      0   \n",
       "1                         0                    0                      0   \n",
       "2                         0                    1                      0   \n",
       "3                         0                    0                      0   \n",
       "4                         0                    0                      0   \n",
       "\n",
       "   Sub-Category_Paper  Sub-Category_Phones  Sub-Category_Storage  \\\n",
       "0                   0                    0                     0   \n",
       "1                   0                    0                     0   \n",
       "2                   0                    0                     0   \n",
       "3                   0                    0                     0   \n",
       "4                   0                    0                     1   \n",
       "\n",
       "   Sub-Category_Supplies  Sub-Category_Tables  Order_Month_1  Order_Month_2  \\\n",
       "0                      0                    0              0              0   \n",
       "1                      0                    0              0              0   \n",
       "2                      0                    0              0              0   \n",
       "3                      0                    1              0              0   \n",
       "4                      0                    0              0              0   \n",
       "\n",
       "   Order_Month_3  Order_Month_4  Order_Month_5  Order_Month_6  Order_Month_7  \\\n",
       "0              0              0              0              0              0   \n",
       "1              0              0              0              0              0   \n",
       "2              0              0              0              1              0   \n",
       "3              0              0              0              0              0   \n",
       "4              0              0              0              0              0   \n",
       "\n",
       "   Order_Month_8  Order_Month_9  Order_Month_10  Order_Month_11  \\\n",
       "0              0              0               0               1   \n",
       "1              0              0               0               1   \n",
       "2              0              0               0               0   \n",
       "3              0              0               1               0   \n",
       "4              0              0               1               0   \n",
       "\n",
       "   Order_Month_12  \n",
       "0               0  \n",
       "1               0  \n",
       "2               0  \n",
       "3               0  \n",
       "4               0  "
      ]
     },
     "execution_count": 28,
     "metadata": {},
     "output_type": "execute_result"
    }
   ],
   "source": [
    "# Dropping non-required column\n",
    "df.drop(['Ship Mode', 'Segment', 'State', 'Category', 'Sub-Category','Order_Month'],1,inplace=True)\n",
    "df = pd.concat([df,dummies],1)\n",
    "df.head()"
   ]
  },
  {
   "cell_type": "code",
   "execution_count": 29,
   "id": "629a8adc",
   "metadata": {},
   "outputs": [],
   "source": [
    "# removing outliers\n",
    "def outliers_remover(col):\n",
    "    IQR = df[col].quantile(0.75) - df[col].quantile(0.25)\n",
    "    ul = df[col].quantile(0.75) + 1.5*IQR\n",
    "    ll = df[col].quantile(0.25) - 1.5*IQR\n",
    "    return round(ul,1),round(ll,1)"
   ]
  },
  {
   "cell_type": "code",
   "execution_count": 30,
   "id": "35e9cefa",
   "metadata": {},
   "outputs": [
    {
     "data": {
      "text/plain": [
       "(498.9, -271.7)"
      ]
     },
     "execution_count": 30,
     "metadata": {},
     "output_type": "execute_result"
    }
   ],
   "source": [
    "# For Sales Column\n",
    "sales_ul,sales_ll = outliers_remover('Sales')\n",
    "sales_ul,sales_ll"
   ]
  },
  {
   "cell_type": "code",
   "execution_count": 31,
   "id": "c371cd70",
   "metadata": {},
   "outputs": [
    {
     "data": {
      "text/plain": [
       "(0.5, -0.3)"
      ]
     },
     "execution_count": 31,
     "metadata": {},
     "output_type": "execute_result"
    }
   ],
   "source": [
    "# For Discount Column\n",
    "disc_ul,disc_ll = outliers_remover('Discount')\n",
    "disc_ul,disc_ll"
   ]
  },
  {
   "cell_type": "code",
   "execution_count": 32,
   "id": "997e26eb",
   "metadata": {},
   "outputs": [
    {
     "data": {
      "text/plain": [
       "(70.8, -39.7)"
      ]
     },
     "execution_count": 32,
     "metadata": {},
     "output_type": "execute_result"
    }
   ],
   "source": [
    "# For Profit Column\n",
    "profit_ul ,profit_ll = outliers_remover('Profit')\n",
    "profit_ul,profit_ll"
   ]
  },
  {
   "cell_type": "code",
   "execution_count": 33,
   "id": "e023c1f2",
   "metadata": {},
   "outputs": [],
   "source": [
    "# Filtering outliers\n",
    "df  = df[(df['Sales'] > sales_ll) & (df['Sales'] <sales_ul)]\n",
    "df = df[(df['Discount'] > disc_ll) & (df['Discount'] < disc_ul)]\n",
    "#df = df[(df['Profit'] > profit_ll) & (df['Profit'] < profit_ul)]"
   ]
  },
  {
   "cell_type": "code",
   "execution_count": 34,
   "id": "c4ea927b",
   "metadata": {},
   "outputs": [
    {
     "data": {
      "text/plain": [
       "(7953, 43)"
      ]
     },
     "execution_count": 34,
     "metadata": {},
     "output_type": "execute_result"
    }
   ],
   "source": [
    "df.shape"
   ]
  },
  {
   "cell_type": "code",
   "execution_count": 35,
   "id": "6b546245",
   "metadata": {},
   "outputs": [
    {
     "data": {
      "text/html": [
       "<div>\n",
       "<style scoped>\n",
       "    .dataframe tbody tr th:only-of-type {\n",
       "        vertical-align: middle;\n",
       "    }\n",
       "\n",
       "    .dataframe tbody tr th {\n",
       "        vertical-align: top;\n",
       "    }\n",
       "\n",
       "    .dataframe thead th {\n",
       "        text-align: right;\n",
       "    }\n",
       "</style>\n",
       "<table border=\"1\" class=\"dataframe\">\n",
       "  <thead>\n",
       "    <tr style=\"text-align: right;\">\n",
       "      <th></th>\n",
       "      <th>Sales</th>\n",
       "      <th>Quantity</th>\n",
       "      <th>Discount</th>\n",
       "      <th>Profit</th>\n",
       "      <th>Ship Mode_First Class</th>\n",
       "      <th>Ship Mode_Same Day</th>\n",
       "      <th>Ship Mode_Second Class</th>\n",
       "      <th>Ship Mode_Standard Class</th>\n",
       "      <th>Segment_Consumer</th>\n",
       "      <th>Segment_Corporate</th>\n",
       "      <th>Segment_Home Office</th>\n",
       "      <th>Category_Furniture</th>\n",
       "      <th>Category_Office Supplies</th>\n",
       "      <th>Category_Technology</th>\n",
       "      <th>Sub-Category_Accessories</th>\n",
       "      <th>Sub-Category_Appliances</th>\n",
       "      <th>Sub-Category_Art</th>\n",
       "      <th>Sub-Category_Binders</th>\n",
       "      <th>Sub-Category_Bookcases</th>\n",
       "      <th>Sub-Category_Chairs</th>\n",
       "      <th>Sub-Category_Copiers</th>\n",
       "      <th>Sub-Category_Envelopes</th>\n",
       "      <th>Sub-Category_Fasteners</th>\n",
       "      <th>Sub-Category_Furnishings</th>\n",
       "      <th>Sub-Category_Labels</th>\n",
       "      <th>Sub-Category_Machines</th>\n",
       "      <th>Sub-Category_Paper</th>\n",
       "      <th>Sub-Category_Phones</th>\n",
       "      <th>Sub-Category_Storage</th>\n",
       "      <th>Sub-Category_Supplies</th>\n",
       "      <th>Sub-Category_Tables</th>\n",
       "      <th>Order_Month_1</th>\n",
       "      <th>Order_Month_2</th>\n",
       "      <th>Order_Month_3</th>\n",
       "      <th>Order_Month_4</th>\n",
       "      <th>Order_Month_5</th>\n",
       "      <th>Order_Month_6</th>\n",
       "      <th>Order_Month_7</th>\n",
       "      <th>Order_Month_8</th>\n",
       "      <th>Order_Month_9</th>\n",
       "      <th>Order_Month_10</th>\n",
       "      <th>Order_Month_11</th>\n",
       "      <th>Order_Month_12</th>\n",
       "    </tr>\n",
       "  </thead>\n",
       "  <tbody>\n",
       "    <tr>\n",
       "      <th>0</th>\n",
       "      <td>261.960</td>\n",
       "      <td>2</td>\n",
       "      <td>0.0</td>\n",
       "      <td>41.9136</td>\n",
       "      <td>0</td>\n",
       "      <td>0</td>\n",
       "      <td>1</td>\n",
       "      <td>0</td>\n",
       "      <td>1</td>\n",
       "      <td>0</td>\n",
       "      <td>0</td>\n",
       "      <td>1</td>\n",
       "      <td>0</td>\n",
       "      <td>0</td>\n",
       "      <td>0</td>\n",
       "      <td>0</td>\n",
       "      <td>0</td>\n",
       "      <td>0</td>\n",
       "      <td>1</td>\n",
       "      <td>0</td>\n",
       "      <td>0</td>\n",
       "      <td>0</td>\n",
       "      <td>0</td>\n",
       "      <td>0</td>\n",
       "      <td>0</td>\n",
       "      <td>0</td>\n",
       "      <td>0</td>\n",
       "      <td>0</td>\n",
       "      <td>0</td>\n",
       "      <td>0</td>\n",
       "      <td>0</td>\n",
       "      <td>0</td>\n",
       "      <td>0</td>\n",
       "      <td>0</td>\n",
       "      <td>0</td>\n",
       "      <td>0</td>\n",
       "      <td>0</td>\n",
       "      <td>0</td>\n",
       "      <td>0</td>\n",
       "      <td>0</td>\n",
       "      <td>0</td>\n",
       "      <td>1</td>\n",
       "      <td>0</td>\n",
       "    </tr>\n",
       "    <tr>\n",
       "      <th>2</th>\n",
       "      <td>14.620</td>\n",
       "      <td>2</td>\n",
       "      <td>0.0</td>\n",
       "      <td>6.8714</td>\n",
       "      <td>0</td>\n",
       "      <td>0</td>\n",
       "      <td>1</td>\n",
       "      <td>0</td>\n",
       "      <td>0</td>\n",
       "      <td>1</td>\n",
       "      <td>0</td>\n",
       "      <td>0</td>\n",
       "      <td>1</td>\n",
       "      <td>0</td>\n",
       "      <td>0</td>\n",
       "      <td>0</td>\n",
       "      <td>0</td>\n",
       "      <td>0</td>\n",
       "      <td>0</td>\n",
       "      <td>0</td>\n",
       "      <td>0</td>\n",
       "      <td>0</td>\n",
       "      <td>0</td>\n",
       "      <td>0</td>\n",
       "      <td>1</td>\n",
       "      <td>0</td>\n",
       "      <td>0</td>\n",
       "      <td>0</td>\n",
       "      <td>0</td>\n",
       "      <td>0</td>\n",
       "      <td>0</td>\n",
       "      <td>0</td>\n",
       "      <td>0</td>\n",
       "      <td>0</td>\n",
       "      <td>0</td>\n",
       "      <td>0</td>\n",
       "      <td>1</td>\n",
       "      <td>0</td>\n",
       "      <td>0</td>\n",
       "      <td>0</td>\n",
       "      <td>0</td>\n",
       "      <td>0</td>\n",
       "      <td>0</td>\n",
       "    </tr>\n",
       "    <tr>\n",
       "      <th>4</th>\n",
       "      <td>22.368</td>\n",
       "      <td>2</td>\n",
       "      <td>0.2</td>\n",
       "      <td>2.5164</td>\n",
       "      <td>0</td>\n",
       "      <td>0</td>\n",
       "      <td>0</td>\n",
       "      <td>1</td>\n",
       "      <td>1</td>\n",
       "      <td>0</td>\n",
       "      <td>0</td>\n",
       "      <td>0</td>\n",
       "      <td>1</td>\n",
       "      <td>0</td>\n",
       "      <td>0</td>\n",
       "      <td>0</td>\n",
       "      <td>0</td>\n",
       "      <td>0</td>\n",
       "      <td>0</td>\n",
       "      <td>0</td>\n",
       "      <td>0</td>\n",
       "      <td>0</td>\n",
       "      <td>0</td>\n",
       "      <td>0</td>\n",
       "      <td>0</td>\n",
       "      <td>0</td>\n",
       "      <td>0</td>\n",
       "      <td>0</td>\n",
       "      <td>1</td>\n",
       "      <td>0</td>\n",
       "      <td>0</td>\n",
       "      <td>0</td>\n",
       "      <td>0</td>\n",
       "      <td>0</td>\n",
       "      <td>0</td>\n",
       "      <td>0</td>\n",
       "      <td>0</td>\n",
       "      <td>0</td>\n",
       "      <td>0</td>\n",
       "      <td>0</td>\n",
       "      <td>1</td>\n",
       "      <td>0</td>\n",
       "      <td>0</td>\n",
       "    </tr>\n",
       "    <tr>\n",
       "      <th>5</th>\n",
       "      <td>48.860</td>\n",
       "      <td>7</td>\n",
       "      <td>0.0</td>\n",
       "      <td>14.1694</td>\n",
       "      <td>0</td>\n",
       "      <td>0</td>\n",
       "      <td>0</td>\n",
       "      <td>1</td>\n",
       "      <td>1</td>\n",
       "      <td>0</td>\n",
       "      <td>0</td>\n",
       "      <td>1</td>\n",
       "      <td>0</td>\n",
       "      <td>0</td>\n",
       "      <td>0</td>\n",
       "      <td>0</td>\n",
       "      <td>0</td>\n",
       "      <td>0</td>\n",
       "      <td>0</td>\n",
       "      <td>0</td>\n",
       "      <td>0</td>\n",
       "      <td>0</td>\n",
       "      <td>0</td>\n",
       "      <td>1</td>\n",
       "      <td>0</td>\n",
       "      <td>0</td>\n",
       "      <td>0</td>\n",
       "      <td>0</td>\n",
       "      <td>0</td>\n",
       "      <td>0</td>\n",
       "      <td>0</td>\n",
       "      <td>0</td>\n",
       "      <td>0</td>\n",
       "      <td>0</td>\n",
       "      <td>0</td>\n",
       "      <td>0</td>\n",
       "      <td>1</td>\n",
       "      <td>0</td>\n",
       "      <td>0</td>\n",
       "      <td>0</td>\n",
       "      <td>0</td>\n",
       "      <td>0</td>\n",
       "      <td>0</td>\n",
       "    </tr>\n",
       "    <tr>\n",
       "      <th>6</th>\n",
       "      <td>7.280</td>\n",
       "      <td>4</td>\n",
       "      <td>0.0</td>\n",
       "      <td>1.9656</td>\n",
       "      <td>0</td>\n",
       "      <td>0</td>\n",
       "      <td>0</td>\n",
       "      <td>1</td>\n",
       "      <td>1</td>\n",
       "      <td>0</td>\n",
       "      <td>0</td>\n",
       "      <td>0</td>\n",
       "      <td>1</td>\n",
       "      <td>0</td>\n",
       "      <td>0</td>\n",
       "      <td>0</td>\n",
       "      <td>1</td>\n",
       "      <td>0</td>\n",
       "      <td>0</td>\n",
       "      <td>0</td>\n",
       "      <td>0</td>\n",
       "      <td>0</td>\n",
       "      <td>0</td>\n",
       "      <td>0</td>\n",
       "      <td>0</td>\n",
       "      <td>0</td>\n",
       "      <td>0</td>\n",
       "      <td>0</td>\n",
       "      <td>0</td>\n",
       "      <td>0</td>\n",
       "      <td>0</td>\n",
       "      <td>0</td>\n",
       "      <td>0</td>\n",
       "      <td>0</td>\n",
       "      <td>0</td>\n",
       "      <td>0</td>\n",
       "      <td>1</td>\n",
       "      <td>0</td>\n",
       "      <td>0</td>\n",
       "      <td>0</td>\n",
       "      <td>0</td>\n",
       "      <td>0</td>\n",
       "      <td>0</td>\n",
       "    </tr>\n",
       "  </tbody>\n",
       "</table>\n",
       "</div>"
      ],
      "text/plain": [
       "     Sales  Quantity  Discount   Profit  Ship Mode_First Class  \\\n",
       "0  261.960         2       0.0  41.9136                      0   \n",
       "2   14.620         2       0.0   6.8714                      0   \n",
       "4   22.368         2       0.2   2.5164                      0   \n",
       "5   48.860         7       0.0  14.1694                      0   \n",
       "6    7.280         4       0.0   1.9656                      0   \n",
       "\n",
       "   Ship Mode_Same Day  Ship Mode_Second Class  Ship Mode_Standard Class  \\\n",
       "0                   0                       1                         0   \n",
       "2                   0                       1                         0   \n",
       "4                   0                       0                         1   \n",
       "5                   0                       0                         1   \n",
       "6                   0                       0                         1   \n",
       "\n",
       "   Segment_Consumer  Segment_Corporate  Segment_Home Office  \\\n",
       "0                 1                  0                    0   \n",
       "2                 0                  1                    0   \n",
       "4                 1                  0                    0   \n",
       "5                 1                  0                    0   \n",
       "6                 1                  0                    0   \n",
       "\n",
       "   Category_Furniture  Category_Office Supplies  Category_Technology  \\\n",
       "0                   1                         0                    0   \n",
       "2                   0                         1                    0   \n",
       "4                   0                         1                    0   \n",
       "5                   1                         0                    0   \n",
       "6                   0                         1                    0   \n",
       "\n",
       "   Sub-Category_Accessories  Sub-Category_Appliances  Sub-Category_Art  \\\n",
       "0                         0                        0                 0   \n",
       "2                         0                        0                 0   \n",
       "4                         0                        0                 0   \n",
       "5                         0                        0                 0   \n",
       "6                         0                        0                 1   \n",
       "\n",
       "   Sub-Category_Binders  Sub-Category_Bookcases  Sub-Category_Chairs  \\\n",
       "0                     0                       1                    0   \n",
       "2                     0                       0                    0   \n",
       "4                     0                       0                    0   \n",
       "5                     0                       0                    0   \n",
       "6                     0                       0                    0   \n",
       "\n",
       "   Sub-Category_Copiers  Sub-Category_Envelopes  Sub-Category_Fasteners  \\\n",
       "0                     0                       0                       0   \n",
       "2                     0                       0                       0   \n",
       "4                     0                       0                       0   \n",
       "5                     0                       0                       0   \n",
       "6                     0                       0                       0   \n",
       "\n",
       "   Sub-Category_Furnishings  Sub-Category_Labels  Sub-Category_Machines  \\\n",
       "0                         0                    0                      0   \n",
       "2                         0                    1                      0   \n",
       "4                         0                    0                      0   \n",
       "5                         1                    0                      0   \n",
       "6                         0                    0                      0   \n",
       "\n",
       "   Sub-Category_Paper  Sub-Category_Phones  Sub-Category_Storage  \\\n",
       "0                   0                    0                     0   \n",
       "2                   0                    0                     0   \n",
       "4                   0                    0                     1   \n",
       "5                   0                    0                     0   \n",
       "6                   0                    0                     0   \n",
       "\n",
       "   Sub-Category_Supplies  Sub-Category_Tables  Order_Month_1  Order_Month_2  \\\n",
       "0                      0                    0              0              0   \n",
       "2                      0                    0              0              0   \n",
       "4                      0                    0              0              0   \n",
       "5                      0                    0              0              0   \n",
       "6                      0                    0              0              0   \n",
       "\n",
       "   Order_Month_3  Order_Month_4  Order_Month_5  Order_Month_6  Order_Month_7  \\\n",
       "0              0              0              0              0              0   \n",
       "2              0              0              0              1              0   \n",
       "4              0              0              0              0              0   \n",
       "5              0              0              0              1              0   \n",
       "6              0              0              0              1              0   \n",
       "\n",
       "   Order_Month_8  Order_Month_9  Order_Month_10  Order_Month_11  \\\n",
       "0              0              0               0               1   \n",
       "2              0              0               0               0   \n",
       "4              0              0               1               0   \n",
       "5              0              0               0               0   \n",
       "6              0              0               0               0   \n",
       "\n",
       "   Order_Month_12  \n",
       "0               0  \n",
       "2               0  \n",
       "4               0  \n",
       "5               0  \n",
       "6               0  "
      ]
     },
     "execution_count": 35,
     "metadata": {},
     "output_type": "execute_result"
    }
   ],
   "source": [
    "df.head()"
   ]
  },
  {
   "cell_type": "code",
   "execution_count": 36,
   "id": "f6499db9",
   "metadata": {},
   "outputs": [],
   "source": [
    "from sklearn.preprocessing import MinMaxScaler\n",
    "scaler = MinMaxScaler(feature_range=(-1,1))\n",
    "scaler.fit(df[['Profit','Discount','Sales']])\n",
    "df[['Profit','Discount','Sales']] = scaler.transform(df[['Profit','Discount','Sales']])"
   ]
  },
  {
   "cell_type": "markdown",
   "id": "80632f55",
   "metadata": {},
   "source": [
    "# Model Building"
   ]
  },
  {
   "cell_type": "code",
   "execution_count": 37,
   "id": "1d39d3ad",
   "metadata": {},
   "outputs": [],
   "source": [
    "from sklearn.model_selection import train_test_split\n",
    "X_train,X_test,y_train,y_test = train_test_split(df.drop('Profit',1),df['Profit'],\n",
    "                                                train_size=0.8,random_state=500,)"
   ]
  },
  {
   "cell_type": "code",
   "execution_count": 38,
   "id": "31c2fa4d",
   "metadata": {},
   "outputs": [
    {
     "data": {
      "text/plain": [
       "0.9623772718462242"
      ]
     },
     "execution_count": 38,
     "metadata": {},
     "output_type": "execute_result"
    }
   ],
   "source": [
    "# Fitting our model using RandomForestRegressor\n",
    "from sklearn.ensemble import RandomForestRegressor\n",
    "rf = RandomForestRegressor(n_jobs=-1,max_depth=16)#15\n",
    "rf.fit(X_train,y_train)\n",
    "rf.score(X_train,y_train)"
   ]
  },
  {
   "cell_type": "code",
   "execution_count": 39,
   "id": "b57c625b",
   "metadata": {},
   "outputs": [
    {
     "data": {
      "text/plain": [
       "82.12510228322634"
      ]
     },
     "execution_count": 39,
     "metadata": {},
     "output_type": "execute_result"
    }
   ],
   "source": [
    "rf.score(X_test,y_test)*100"
   ]
  },
  {
   "cell_type": "code",
   "execution_count": 40,
   "id": "279ef13f",
   "metadata": {},
   "outputs": [],
   "source": [
    "#Making predictions\n",
    "y_pred = rf.predict(X_test)"
   ]
  },
  {
   "cell_type": "code",
   "execution_count": 41,
   "id": "72955017",
   "metadata": {},
   "outputs": [
    {
     "name": "stdout",
     "output_type": "stream",
     "text": [
      "      R2 Score     :  0.8212510228322634\n",
      "Mean Absolute Error:  0.028551028206062222\n",
      "Mean Squared Error :  0.0036745217643363256\n"
     ]
    }
   ],
   "source": [
    "# Evaluating our model\n",
    "from sklearn.metrics import r2_score,mean_squared_error,mean_absolute_error\n",
    "\n",
    "print(\"      R2 Score     : \",r2_score(y_test,y_pred))\n",
    "print(\"Mean Absolute Error: \",mean_absolute_error(y_test,y_pred))\n",
    "print(\"Mean Squared Error : \",mean_squared_error(y_test,y_pred))"
   ]
  },
  {
   "cell_type": "code",
   "execution_count": 42,
   "id": "f7002a8e",
   "metadata": {},
   "outputs": [
    {
     "data": {
      "text/plain": [
       "Sales                       38.849998\n",
       "Quantity                     2.864086\n",
       "Discount                    31.812481\n",
       "Ship Mode_First Class        0.306806\n",
       "Ship Mode_Same Day           0.307200\n",
       "Ship Mode_Second Class       0.381924\n",
       "Ship Mode_Standard Class     0.276072\n",
       "Segment_Consumer             0.290489\n",
       "Segment_Corporate            0.301752\n",
       "Segment_Home Office          0.315800\n",
       "Category_Furniture           3.215172\n",
       "Category_Office Supplies     1.009363\n",
       "Category_Technology          0.583133\n",
       "Sub-Category_Accessories     0.576383\n",
       "Sub-Category_Appliances      0.677018\n",
       "Sub-Category_Art             0.195021\n",
       "Sub-Category_Binders         1.378001\n",
       "Sub-Category_Bookcases       0.131098\n",
       "Sub-Category_Chairs          0.266607\n",
       "Sub-Category_Copiers         0.204346\n",
       "Sub-Category_Envelopes       0.545393\n",
       "Sub-Category_Fasteners       0.013621\n",
       "Sub-Category_Furnishings     0.274766\n",
       "Sub-Category_Labels          0.188306\n",
       "Sub-Category_Machines        0.503187\n",
       "Sub-Category_Paper           2.385369\n",
       "Sub-Category_Phones          0.858188\n",
       "Sub-Category_Storage         5.413288\n",
       "Sub-Category_Supplies        1.288081\n",
       "Sub-Category_Tables          0.810999\n",
       "Order_Month_1                0.382513\n",
       "Order_Month_2                0.186859\n",
       "Order_Month_3                0.267445\n",
       "Order_Month_4                0.197417\n",
       "Order_Month_5                0.188771\n",
       "Order_Month_6                0.355862\n",
       "Order_Month_7                0.399754\n",
       "Order_Month_8                0.387258\n",
       "Order_Month_9                0.359969\n",
       "Order_Month_10               0.283157\n",
       "Order_Month_11               0.423755\n",
       "Order_Month_12               0.343293\n",
       "dtype: float64"
      ]
     },
     "execution_count": 42,
     "metadata": {},
     "output_type": "execute_result"
    }
   ],
   "source": [
    "top_features = pd.Series(rf.feature_importances_*100,X_train.columns)\n",
    "top_features"
   ]
  },
  {
   "cell_type": "code",
   "execution_count": 43,
   "id": "6f58f49f",
   "metadata": {},
   "outputs": [
    {
     "data": {
      "text/plain": [
       "Sales                       38.849998\n",
       "Discount                    31.812481\n",
       "Sub-Category_Storage         5.413288\n",
       "Category_Furniture           3.215172\n",
       "Quantity                     2.864086\n",
       "Sub-Category_Paper           2.385369\n",
       "Sub-Category_Binders         1.378001\n",
       "Sub-Category_Supplies        1.288081\n",
       "Category_Office Supplies     1.009363\n",
       "Sub-Category_Phones          0.858188\n",
       "Sub-Category_Tables          0.810999\n",
       "Sub-Category_Appliances      0.677018\n",
       "Category_Technology          0.583133\n",
       "Sub-Category_Accessories     0.576383\n",
       "Sub-Category_Envelopes       0.545393\n",
       "dtype: float64"
      ]
     },
     "execution_count": 43,
     "metadata": {},
     "output_type": "execute_result"
    }
   ],
   "source": [
    "top_15 = top_features.nlargest(15)\n",
    "top_15"
   ]
  },
  {
   "cell_type": "code",
   "execution_count": 44,
   "id": "cc763b26",
   "metadata": {},
   "outputs": [
    {
     "data": {
      "text/plain": [
       "<AxesSubplot:>"
      ]
     },
     "execution_count": 44,
     "metadata": {},
     "output_type": "execute_result"
    },
    {
     "data": {
      "image/png": "[encoded data removed]",
      "text/plain": [
       "<Figure size 432x288 with 1 Axes>"
      ]
     },
     "metadata": {
      "needs_background": "light"
     },
     "output_type": "display_data"
    }
   ],
   "source": [
    "sns.barplot(top_15.values,top_15.index)"
   ]
  },
  {
   "cell_type": "code",
   "execution_count": null,
   "id": "7ad28853",
   "metadata": {},
   "outputs": [],
   "source": []
  },
  {
   "cell_type": "code",
   "execution_count": null,
   "id": "021d29bf",
   "metadata": {},
   "outputs": [],
   "source": []
  },
  {
   "cell_type": "code",
   "execution_count": null,
   "id": "4c572c0c",
   "metadata": {},
   "outputs": [],
   "source": []
  },
  {
   "cell_type": "code",
   "execution_count": null,
   "id": "625ec227",
   "metadata": {},
   "outputs": [],
   "source": []
  },
  {
   "cell_type": "code",
   "execution_count": null,
   "id": "9b9c4d43",
   "metadata": {},
   "outputs": [],
   "source": []
  },
  {
   "cell_type": "code",
   "execution_count": null,
   "id": "a0f4a640",
   "metadata": {},
   "outputs": [],
   "source": []
  },
  {
   "cell_type": "code",
   "execution_count": null,
   "id": "8478a711",
   "metadata": {},
   "outputs": [],
   "source": []
  },
  {
   "cell_type": "code",
   "execution_count": null,
   "id": "2680839a",
   "metadata": {},
   "outputs": [],
   "source": []
  },
  {
   "cell_type": "code",
   "execution_count": null,
   "id": "525d9641",
   "metadata": {},
   "outputs": [],
   "source": []
  },
  {
   "cell_type": "code",
   "execution_count": null,
   "id": "f53d1db5",
   "metadata": {},
   "outputs": [],
   "source": []
  },
  {
   "cell_type": "code",
   "execution_count": null,
   "id": "ed76dfdc",
   "metadata": {},
   "outputs": [],
   "source": []
  },
  {
   "cell_type": "code",
   "execution_count": null,
   "id": "368e71d6",
   "metadata": {},
   "outputs": [],
   "source": []
  },
  {
   "cell_type": "code",
   "execution_count": null,
   "id": "6e0d8e90",
   "metadata": {},
   "outputs": [],
   "source": []
  },
  {
   "cell_type": "code",
   "execution_count": null,
   "id": "58580798",
   "metadata": {},
   "outputs": [],
   "source": []
  },
  {
   "cell_type": "code",
   "execution_count": null,
   "id": "1b79699d",
   "metadata": {},
   "outputs": [],
   "source": []
  },
  {
   "cell_type": "code",
   "execution_count": null,
   "id": "83b3a130",
   "metadata": {},
   "outputs": [],
   "source": []
  }
 ],
 "metadata": {
  "kernelspec": {
   "display_name": "Python 3",
   "language": "python",
   "name": "python3"
  },
  "language_info": {
   "codemirror_mode": {
    "name": "ipython",
    "version": 3
   },
   "file_extension": ".py",
   "mimetype": "text/x-python",
   "name": "python",
   "nbconvert_exporter": "python",
   "pygments_lexer": "ipython3",
   "version": "3.8.8"
  }
 },
 "nbformat": 4,
 "nbformat_minor": 5
}
